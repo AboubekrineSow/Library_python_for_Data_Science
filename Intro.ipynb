{
  "nbformat": 4,
  "nbformat_minor": 0,
  "metadata": {
    "colab": {
      "provenance": [],
      "authorship_tag": "ABX9TyPT6Qh42LnRxIGn0qLZ1RSV",
      "include_colab_link": true
    },
    "kernelspec": {
      "name": "python3",
      "display_name": "Python 3"
    },
    "language_info": {
      "name": "python"
    }
  },
  "cells": [
    {
      "cell_type": "markdown",
      "metadata": {
        "id": "view-in-github",
        "colab_type": "text"
      },
      "source": [
        "<a href=\"https://colab.research.google.com/github/AboubekrineSow/Library_python_for_Data_Science/blob/main/Intro.ipynb\" target=\"_parent\"><img src=\"https://colab.research.google.com/assets/colab-badge.svg\" alt=\"Open In Colab\"/></a>"
      ]
    },
    {
      "cell_type": "markdown",
      "source": [
        "# Créez vos premiers arrays avec Numpy\n",
        "\n",
        "Tout au long de ce cours, nous allons nous mettre dans la peau d’une personne travaillant  dans un service data au sein d'une banque. Plus précisément, vous travaillez pour la filière gérant les différents prêts. L’objectif sera d’utiliser les connaissances acquises sur les librairies Python pour aider l’agence dans différentes tâches.\n",
        "\n",
        "Pour cette première tâche, nous avons à notre disposition les revenus de 10 clients de notre banque. Vous aurez à utiliser les différentes manipulations présentées dans ce chapitre pour sélectionner certains revenus selon une condition spécifique et effectuer diverses opérations.\n",
        "\n",
        "Maintenant, créez un nouvel array `haut_revenus` dans lequel vous sélectionnerez l'ensemble des revenus supérieurs ou égal à 3000€ :\n",
        "\n",
        "Il est à présent temps de calculer quelques indicateurs :\n",
        "\n",
        "calculez dans un premier temps la somme des revenus annuelle. Pour rappel, les revenus listés ci dessus sont mensuels.\n",
        "calculez ensuite la moyenne des revenus des 10 clients\n",
        "\n",
        "Un de nos clients (dont les revenus mensuels s'élevaient jusque là à 1400€)\n",
        "\n",
        "---\n",
        "\n",
        "vient de nous annoncer qu'il venait d'obtenir une promotion. Grâce à cette dernière, il a gagné 200€ sur son salaire mensuel. Effectuez cette modification au sein de votre array revenus."
      ],
      "metadata": {
        "id": "CViWZ9s6bXnN"
      }
    },
    {
      "cell_type": "code",
      "execution_count": null,
      "metadata": {
        "id": "8yAvc5JGZ7IM"
      },
      "outputs": [],
      "source": [
        "import numpy as np\n",
        "# liste de revenus des 10 clients\n",
        "liste = [1800, 1500, 2200, 3000, 2172, 5000, 1400, 1200, 1100, 1300]\n",
        "\n",
        "#creation d'un array\n",
        "revenus = np.array(liste)\n",
        "display(revenus)\n",
        "\n",
        "haut_revenus = revenus[revenus>=3_000]\n",
        "haut_revenus\n",
        "\n",
        "# Il était donc possible de faire les 2 opérations en une ligne :\n",
        "\n",
        "somme = revenus.sum() * 12\n",
        "print(\"La somme des revenus annuelle est :\", somme, \"€\")\n",
        "\n",
        "moyenne = revenus.mean()\n",
        "print(\"La moyenne des revenus mensuelle est :\", moyenne, \"€\")\n",
        "\n",
        "print(\"Array avant :\", revenus)\n",
        "\n",
        "revenus[revenus == 1400] = 1600\n",
        "print(\"Array après :\", revenus)"
      ]
    }
  ]
}